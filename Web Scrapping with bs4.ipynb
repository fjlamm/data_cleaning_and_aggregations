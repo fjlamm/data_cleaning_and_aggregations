{
 "cells": [
  {
   "cell_type": "markdown",
   "metadata": {},
   "source": [
    "# Web Scrapping with Beautiful soup\n",
    "\n",
    "We have to verify the numbers on a web report against our numbers in the database.\n",
    "\n",
    "the first thing we need is to extract the numbers form the website so we'll use some python scrapping tools."
   ]
  },
  {
   "cell_type": "code",
   "execution_count": null,
   "metadata": {},
   "outputs": [],
   "source": [
    "import pandas as pd\n",
    "import numpy as np\n",
    "import requests\n",
    "\n",
    "#let's first get the html content of the page containing the table we want\n",
    "url = '####'\n",
    "r = requests.get(url)\n",
    "print(r.content)"
   ]
  },
  {
   "cell_type": "code",
   "execution_count": null,
   "metadata": {},
   "outputs": [],
   "source": [
    "#let's now use html5lib and bs4 to parse the web content\n",
    "from bs4 import BeautifulSoup\n",
    "soup = BeautifulSoup(r.content,'html5lib')\n",
    "print(soup.prettify())"
   ]
  },
  {
   "cell_type": "code",
   "execution_count": null,
   "metadata": {},
   "outputs": [],
   "source": [
    "table = soup.findAll('tr',attrs={'class':['divTableItems','divTableItemsAlt']})\n",
    "table"
   ]
  },
  {
   "cell_type": "code",
   "execution_count": null,
   "metadata": {},
   "outputs": [],
   "source": [
    "#now that I have the table, I want to create  a dictionary with campus name as key and total as value\n",
    "total_flash_report = {}\n",
    "for row in table:\n",
    "    campus = row.find('td',attrs={'class':'spanCampusCol'})\n",
    "    campus = campus.a.text\n",
    "    total = row.find('td',attrs={'class':'spanTotalCol'})\n",
    "    total = total.text.strip()\n",
    "    print(campus,total)\n",
    "    total_flash_report[campus] = total"
   ]
  },
  {
   "cell_type": "code",
   "execution_count": null,
   "metadata": {},
   "outputs": [],
   "source": [
    "total_flash_report"
   ]
  },
  {
   "cell_type": "markdown",
   "metadata": {},
   "source": [
    "We successfully got the totals for all locations from one url. However, each location name is a link to it's own url where it has more granular data by age group. \n",
    "\n",
    "therefore, we need to add some code to retrieve the data from those url's as well and add it to the dictionary"
   ]
  },
  {
   "cell_type": "code",
   "execution_count": null,
   "metadata": {},
   "outputs": [],
   "source": [
    "#let's modify our previous code to retrieve the url for each row, parse that url and \n",
    "total_flash_report = {}\n",
    "for row in table:\n",
    "    campus_data = {}\n",
    "    campus = row.find('td',attrs={'class':'spanCampusCol'})\n",
    "    campus = campus.a.text\n",
    "    total = row.find('td',attrs={'class':'spanTotalCol'})\n",
    "    total = total.text.strip()\n",
    "    campus_url = url + row.a['href']\n",
    "    campus_content = requests.get(campus_url)\n",
    "    campus_soup = BeautifulSoup(campus_content.content,'html5lib')\n",
    "    campus_table = campus_soup.findAll('tr',attrs={'class':['divTableItems','divTableItemsAlt']})\n",
    "    for row in campus_table:\n",
    "        group = row.findAll('span',attrs={'style':'float: left;'})\n",
    "        group = group[0].text\n",
    "        time = row.findAll('span',attrs={'style':'float: right;'})\n",
    "        time = time[0].text\n",
    "        group_time = group + ', ' + time\n",
    "        value = row.find('td',attrs={'class':'spanTotalCol'})\n",
    "        value = value.text.strip()\n",
    "        value\n",
    "        campus_data[group_time] = value\n",
    "    total_flash_report[campus] = campus_data"
   ]
  },
  {
   "cell_type": "code",
   "execution_count": null,
   "metadata": {},
   "outputs": [],
   "source": [
    "total_flash_report"
   ]
  },
  {
   "cell_type": "markdown",
   "metadata": {},
   "source": [
    "## Conclusion\n",
    "\n",
    "We are ready now to check our scrapped data against any other source :)"
   ]
  },
  {
   "cell_type": "code",
   "execution_count": null,
   "metadata": {},
   "outputs": [],
   "source": []
  }
 ],
 "metadata": {
  "kernelspec": {
   "display_name": "Python 3",
   "language": "python",
   "name": "python3"
  },
  "language_info": {
   "codemirror_mode": {
    "name": "ipython",
    "version": 3
   },
   "file_extension": ".py",
   "mimetype": "text/x-python",
   "name": "python",
   "nbconvert_exporter": "python",
   "pygments_lexer": "ipython3",
   "version": "3.7.3"
  }
 },
 "nbformat": 4,
 "nbformat_minor": 2
}
