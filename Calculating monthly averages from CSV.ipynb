{
 "cells": [
  {
   "cell_type": "code",
   "execution_count": null,
   "metadata": {},
   "outputs": [],
   "source": [
    "import pandas as pd\n",
    "import numpy as np"
   ]
  },
  {
   "cell_type": "code",
   "execution_count": null,
   "metadata": {},
   "outputs": [],
   "source": [
    "file_US_df = pd.read_excel(io='###.xlsx',sheet_name='US')\n",
    "file_International_df = pd.read_excel(io='###.xlsx',sheet_name='Intl')\n",
    "us_df = file_US_df.copy()\n",
    "in_df = file_International_df.copy()"
   ]
  },
  {
   "cell_type": "code",
   "execution_count": null,
   "metadata": {},
   "outputs": [],
   "source": [
    "us_df.head()"
   ]
  },
  {
   "cell_type": "code",
   "execution_count": null,
   "metadata": {},
   "outputs": [],
   "source": [
    "us_df = us_df.fillna(0)"
   ]
  },
  {
   "cell_type": "code",
   "execution_count": null,
   "metadata": {},
   "outputs": [],
   "source": [
    "us_df['Year']=us_df['Date'].dt.year #adding a year and month column to ease grouping\n",
    "us_df['Month']=us_df['Date'].dt.month\n",
    "us_df.head()"
   ]
  },
  {
   "cell_type": "code",
   "execution_count": null,
   "metadata": {},
   "outputs": [],
   "source": [
    "#print(us_df.loc[(us_df['Year']==2017)&(us_df['Month']==9)]['Date'].unique())"
   ]
  },
  {
   "cell_type": "code",
   "execution_count": null,
   "metadata": {},
   "outputs": [],
   "source": [
    "#grouping by Year for comparisson with yearly totals\n",
    "us_by_year = us_df[us_df['Year'].isin([2017,2018,2019])].groupby(['Campus','Year'],as_index=False)['Total'].sum()\n",
    "pd.set_option(\"display.max_rows\",1000)\n",
    "us_by_year.head()"
   ]
  },
  {
   "cell_type": "code",
   "execution_count": null,
   "metadata": {},
   "outputs": [],
   "source": [
    "us_total = us_by_year.groupby(['Year'],as_index=False).sum()\n",
    "us_total"
   ]
  },
  {
   "cell_type": "code",
   "execution_count": null,
   "metadata": {},
   "outputs": [],
   "source": [
    "total_pivoted = us_by_year.copy().pivot_table(values=['Total'],index=['Year'],aggfunc=np.sum,fill_value=0,margins=True)\n",
    "total_pivoted"
   ]
  },
  {
   "cell_type": "code",
   "execution_count": null,
   "metadata": {},
   "outputs": [],
   "source": [
    "#let's now try to figure out the monthly averages2017-2019\n",
    "us_by_month = us_df[us_df['Year'].isin([2017,2018,2019])].groupby(['Campus','Year','Month'],as_index=False).agg({'Total':np.sum,'Date':'nunique'})\n",
    "us_by_month = us_by_month.rename({'Date':'Weeks'},axis=1)\n",
    "us_by_month['Month_Avg'] = (us_by_month['Total']/us_by_month['Weeks']).astype('int32')\n",
    "us_by_month"
   ]
  },
  {
   "cell_type": "code",
   "execution_count": null,
   "metadata": {},
   "outputs": [],
   "source": [
    "us_pivoted_month = pd.pivot_table(us_by_month,values=['Total','Month_Avg'],index=['Year','Month'],aggfunc={'Total':np.sum,'Month_Avg':np.sum}).round(0).astype('int32')\n",
    "us_pivoted_month"
   ]
  },
  {
   "cell_type": "code",
   "execution_count": null,
   "metadata": {},
   "outputs": [],
   "source": [
    "#with the previous method we got an error of +- 5 or +- 0.02. I'll do a avg of the total and see\n",
    "\n",
    "us_by_month_all = us_df[us_df['Year'].isin([2017,2018,2019])].groupby(['Year','Month'],as_index=True).agg({'Total':np.sum,'Date':'nunique'})\n",
    "us_by_month_all = us_by_month_all.rename({'Date':'Weeks'},axis=1)\n",
    "us_by_month_all['Avg'] = (us_by_month_all['Total']/us_by_month_all['Weeks']).round(0).astype('int32')\n",
    "us_by_month_all"
   ]
  },
  {
   "cell_type": "markdown",
   "metadata": {},
   "source": [
    "## Conclusion\n",
    "\n",
    "this last method gives us exactly the number in Roambi. Let's now apply that to international locations too"
   ]
  },
  {
   "cell_type": "markdown",
   "metadata": {},
   "source": [
    "## Calculating monthly averages for Internationals"
   ]
  },
  {
   "cell_type": "code",
   "execution_count": null,
   "metadata": {},
   "outputs": [],
   "source": [
    "in_df = in_df.fillna(0)\n",
    "in_df.head()"
   ]
  },
  {
   "cell_type": "code",
   "execution_count": null,
   "metadata": {},
   "outputs": [],
   "source": [
    "in_df['Year'] = in_df['Weekend'].dt.year\n",
    "in_df['Month'] = in_df['Weekend'].dt.month\n",
    "in_df.head()"
   ]
  },
  {
   "cell_type": "code",
   "execution_count": null,
   "metadata": {},
   "outputs": [],
   "source": [
    "in_by_year = in_df[in_df['Year'].isin([2017,2018,2019])].groupby(['Campus','Year'],as_index=False)['Total'].sum()\n",
    "in_total = in_by_year.groupby(['Year'],as_index=False).sum()\n",
    "in_total"
   ]
  },
  {
   "cell_type": "code",
   "execution_count": null,
   "metadata": {},
   "outputs": [],
   "source": [
    "in_by_month = in_df[in_df['Year'].isin([2017,2018,2019])].groupby(['Year','Month'],as_index=True).agg({'Total':np.sum,'Weekend':'nunique'}).rename({'Weekend':'Weeks'},axis=1)\n",
    "in_by_month['Avg'] = (in_by_month['Total']/in_by_month['Weeks']).round(0).astype('int32')\n",
    "in_by_month"
   ]
  },
  {
   "cell_type": "markdown",
   "metadata": {},
   "source": [
    "# Conclusion \n",
    "I have now the correct results from the US and Intl tabs on the CSV file compared to the Roambi. these two dataframes, **us_by_month_all and in_by_month**, will be from now on my reference to compare when comparing the factmetrics table and the calculations from the Warehouse"
   ]
  },
  {
   "cell_type": "code",
   "execution_count": null,
   "metadata": {},
   "outputs": [],
   "source": [
    "writer = pd.ExcelWriter('month averages from csv.xlsx',engine='xlsxwriter')"
   ]
  },
  {
   "cell_type": "code",
   "execution_count": null,
   "metadata": {},
   "outputs": [],
   "source": [
    "us_by_month_all.to_excel(writer,sheet_name='US')\n",
    "in_by_month.to_excel(writer,sheet_name='Intl')"
   ]
  },
  {
   "cell_type": "code",
   "execution_count": null,
   "metadata": {},
   "outputs": [],
   "source": []
  },
  {
   "cell_type": "code",
   "execution_count": null,
   "metadata": {},
   "outputs": [],
   "source": [
    "in_df['Service'].value_counts()"
   ]
  },
  {
   "cell_type": "code",
   "execution_count": null,
   "metadata": {},
   "outputs": [],
   "source": [
    "inVolunteers_by_month = in_df[(in_df['Year'].isin([2017,2018,2019]))&(in_df['Service'].str.contains('Volunteers',na=False))].groupby(['Year','Month'],as_index=False).agg({'Total':np.sum,'Weekend':'nunique'}).rename({'Weekend':'Weeks'},axis=1)\n",
    "inVolunteers_by_month['Avg'] = (inVolunteers_by_month['Total']/inVolunteers_by_month['Weeks']).round(0).astype('int32')\n",
    "inVolunteers_by_month"
   ]
  },
  {
   "cell_type": "code",
   "execution_count": null,
   "metadata": {},
   "outputs": [],
   "source": [
    "inVolunteers_by_month.to_excel(writer,sheet_name='Volunteers')\n",
    "writer.save()"
   ]
  }
 ],
 "metadata": {
  "kernelspec": {
   "display_name": "Python 3",
   "language": "python",
   "name": "python3"
  },
  "language_info": {
   "codemirror_mode": {
    "name": "ipython",
    "version": 3
   },
   "file_extension": ".py",
   "mimetype": "text/x-python",
   "name": "python",
   "nbconvert_exporter": "python",
   "pygments_lexer": "ipython3",
   "version": "3.7.3"
  }
 },
 "nbformat": 4,
 "nbformat_minor": 2
}
